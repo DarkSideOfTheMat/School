{
 "cells": [
  {
   "cell_type": "markdown",
   "metadata": {},
   "source": [
    "# Problem Set 4 (python stuff)"
   ]
  },
  {
   "cell_type": "markdown",
   "metadata": {},
   "source": [
    "Formatting enviornment:"
   ]
  },
  {
   "cell_type": "code",
   "execution_count": 1,
   "metadata": {},
   "outputs": [],
   "source": [
    "import numpy as np\n",
    "import pandas as pd\n",
    "import matplotlib.pyplot as plt\n",
    "import seaborn as sns\n",
    "from pathlib import Path\n",
    "import requests\n",
    "import statsmodels.api as sm\n",
    "import statsmodels.formula.api as smf\n",
    "from stargazer.stargazer import Stargazer\n",
    "from math import isclose\n",
    "from scipy import stats\n",
    "from IPython.display import display"
   ]
  },
  {
   "cell_type": "markdown",
   "metadata": {},
   "source": [
    "Loading Data:"
   ]
  },
  {
   "cell_type": "code",
   "execution_count": 2,
   "metadata": {},
   "outputs": [
    {
     "name": "stdout",
     "output_type": "stream",
     "text": [
      "Using cached version downloaded at Wed Feb 27 12:57:56 2019\n"
     ]
    }
   ],
   "source": [
    "def fetch_and_cache(data_url, file, data_dir=\"data\", force = False):\n",
    "    \"\"\"\n",
    "    (Credit: John DeNero)\n",
    "    Download and cache a url and return the file object.\n",
    "\n",
    "    Dependent: from pathlib import Path\n",
    "                import requests\n",
    "    \n",
    "    data_url: the web address to download\n",
    "    file: the file in which to save the results.\n",
    "    data_dir: (default=\"data\") the location to save the data\n",
    "    force: if true the file is always re-downloaded \n",
    "    \n",
    "    return: The pathlib.Path to the file.\n",
    "    \"\"\"\n",
    "    data_dir = Path(data_dir)\n",
    "    data_dir.mkdir(exist_ok=True)\n",
    "    file_path = data_dir/Path(file)\n",
    "    if force and file_path.exists():\n",
    "        file_path.unlink()\n",
    "    if force or not file_path.exists():\n",
    "        print('Downloading...', end = ' ')\n",
    "        resp = requests.get(data_url)\n",
    "        with file_path.open('wb') as f:\n",
    "            f.write(resp.content)\n",
    "        print('Done!')\n",
    "    else:\n",
    "        import time\n",
    "        created = time.ctime(file_path.stat().st_ctime)\n",
    "        print(\"Using cached version downloaded at\", created)\n",
    "    return file_path\n",
    "\n",
    "data_url = 'https://bcourses.berkeley.edu/files/74496429/download?download_frd=1'\n",
    "file = 'ovb.csv'\n",
    "ovb_path = fetch_and_cache(data_url, file)\n",
    "\n",
    "ovb_df = pd.read_csv(ovb_path)"
   ]
  },
  {
   "cell_type": "markdown",
   "metadata": {},
   "source": [
    "## Question 2:"
   ]
  },
  {
   "cell_type": "code",
   "execution_count": 3,
   "metadata": {},
   "outputs": [
    {
     "name": "stdout",
     "output_type": "stream",
     "text": [
      "correlation coefficient = 0.22388700299289657\n",
      "r^2 of logwage on educ = 0.22388700299289477\n",
      "r^2 of educ on logwage = 0.2238870029928961\n"
     ]
    }
   ],
   "source": [
    "models = [\"logwage ~ 1 + educ\", \"educ ~ 1 + logwage\"]\n",
    "\n",
    "f_df = ovb_df.loc[ovb_df['female'] == 1]\n",
    "\n",
    "rho = np.corrcoef(f_df['logwage'], f_df['educ'])[0,1]\n",
    "rho_squared = rho**2\n",
    "\n",
    "r_squared = []\n",
    "for mod in models:\n",
    "    res = smf.ols(mod, data = f_df).fit()\n",
    "    r_squared.append(res.rsquared)\n",
    "assert(isclose(r_squared[0], r_squared[1], abs_tol = 1e-6))\n",
    "assert(isclose(r_squared[0], rho_squared, abs_tol = 1e-6))\n",
    "\n",
    "print(\"correlation coefficient = {}\".format(rho_squared))\n",
    "print(\"r^2 of logwage on educ = {}\".format(r_squared[0]))\n",
    "print(\"r^2 of educ on logwage = {}\".format(r_squared[1]))"
   ]
  },
  {
   "cell_type": "markdown",
   "metadata": {},
   "source": [
    "## Question 3:"
   ]
  },
  {
   "cell_type": "markdown",
   "metadata": {},
   "source": [
    "### a)"
   ]
  },
  {
   "cell_type": "code",
   "execution_count": 4,
   "metadata": {},
   "outputs": [
    {
     "data": {
      "text/html": [
       "<div>\n",
       "<style scoped>\n",
       "    .dataframe tbody tr th:only-of-type {\n",
       "        vertical-align: middle;\n",
       "    }\n",
       "\n",
       "    .dataframe tbody tr th {\n",
       "        vertical-align: top;\n",
       "    }\n",
       "\n",
       "    .dataframe thead th {\n",
       "        text-align: right;\n",
       "    }\n",
       "</style>\n",
       "<table border=\"1\" class=\"dataframe\">\n",
       "  <thead>\n",
       "    <tr style=\"text-align: right;\">\n",
       "      <th></th>\n",
       "      <th>mean</th>\n",
       "      <th>std</th>\n",
       "      <th>n</th>\n",
       "    </tr>\n",
       "  </thead>\n",
       "  <tbody>\n",
       "    <tr>\n",
       "      <th>non-immigrants</th>\n",
       "      <td>2.886378</td>\n",
       "      <td>0.651487</td>\n",
       "      <td>8616</td>\n",
       "    </tr>\n",
       "    <tr>\n",
       "      <th>immigrants</th>\n",
       "      <td>2.706393</td>\n",
       "      <td>0.715594</td>\n",
       "      <td>1985</td>\n",
       "    </tr>\n",
       "  </tbody>\n",
       "</table>\n",
       "</div>"
      ],
      "text/plain": [
       "                    mean       std     n\n",
       "non-immigrants  2.886378  0.651487  8616\n",
       "immigrants      2.706393  0.715594  1985"
      ]
     },
     "metadata": {},
     "output_type": "display_data"
    },
    {
     "name": "stdout",
     "output_type": "stream",
     "text": [
      "the t-score for the difference in means test is -10.268432855577307\n",
      "the difference in means is: -0.17998575423169516 \n",
      " with se 0.017528064580364447\n"
     ]
    }
   ],
   "source": [
    "q3_a = pd.DataFrame(\n",
    "    [\n",
    "        list((np.mean(s), np.std(s), len(s))) for s in \n",
    "            [f_df.loc[f_df['imm'] == i]['logwage'] for i in [0,1]] \n",
    "        ]\n",
    "    , columns = ['mean', 'std', \"n\"]\n",
    "    )\n",
    "mean_diff = (q3_a['mean'][1] - q3_a['mean'][0])\n",
    "se = np.sqrt(sum(q3_a['std']**2 / q3_a['n']))\n",
    "t_test = mean_diff/se\n",
    "\n",
    "q3_a.rename({0: \"non-immigrants\", 1: \"immigrants\"} ,axis = 'index',\n",
    "            inplace = True)\n",
    "\n",
    "display(q3_a)\n",
    "print(\"the t-score for the difference in means test is {}\".format(t_test))\n",
    "print(\"the difference in means is: {} \\n with se {}\".format(mean_diff,se))"
   ]
  },
  {
   "cell_type": "markdown",
   "metadata": {},
   "source": [
    "The t-test implies the means are different."
   ]
  },
  {
   "cell_type": "markdown",
   "metadata": {},
   "source": [
    "### b)"
   ]
  },
  {
   "cell_type": "code",
   "execution_count": 5,
   "metadata": {},
   "outputs": [
    {
     "name": "stdout",
     "output_type": "stream",
     "text": [
      "the OLS estimate for logwage on imm is: -0.1799857542317315 \n",
      " is equal to difference in means: -0.17998575423169516 \n",
      "\n",
      "however, the new std error is 0.016531953532059624 \n",
      " which leads to t-score of: -10.887143729426397\n"
     ]
    }
   ],
   "source": [
    "models = \"logwage ~ 1 + imm\"\n",
    "\n",
    "res = smf.ols(models, data = f_df).fit()\n",
    "beta = res.params\n",
    "assert(isclose(mean_diff, beta['imm'], abs_tol = 1e-6))\n",
    "print(\"the OLS estimate for logwage on imm is: {} \\n is equal to difference in means: {} \\n\".format(beta['imm'], mean_diff))\n",
    "\n",
    "sigma = res.bse['imm']\n",
    "new_t = res.tvalues['imm']\n",
    "print(\"however, the new std error is {} \\n which leads to t-score of: {}\".format(sigma, new_t))"
   ]
  },
  {
   "cell_type": "markdown",
   "metadata": {},
   "source": [
    "This difference is because the original t-test was used heteroskedastic std error, but the regression model used a homoskedastic estimate."
   ]
  },
  {
   "cell_type": "markdown",
   "metadata": {},
   "source": [
    "### c)"
   ]
  },
  {
   "cell_type": "code",
   "execution_count": 6,
   "metadata": {},
   "outputs": [
    {
     "name": "stdout",
     "output_type": "stream",
     "text": [
      "the OLS estimate for logwage on imm is: -0.1799857542317315 \n",
      " is equal to difference in means: -0.17998575423169516 \n",
      "\n",
      "the heteroskedastic robust std error is 0.01752806458036458 \n",
      " which leads to t-score of: -10.268432855579304\n"
     ]
    }
   ],
   "source": [
    "#refitting data with White's heteroskedastic robust std. error\n",
    "het_res = smf.ols(models, data = f_df).fit(cov_type = 'HC0')\n",
    "\n",
    "het_beta = het_res.params\n",
    "assert(isclose(mean_diff, het_beta['imm'], abs_tol = 1e-6))\n",
    "print(\"the OLS estimate for logwage on imm is: {} \\n is equal to difference in means: {} \\n\".format(het_beta['imm'], mean_diff))\n",
    "\n",
    "het_sigma = het_res.bse['imm']\n",
    "het_new_t = het_res.tvalues['imm']\n",
    "print(\"the heteroskedastic robust std error is {} \\n which leads to t-score of: {}\".format(het_sigma, het_new_t))"
   ]
  },
  {
   "cell_type": "markdown",
   "metadata": {},
   "source": [
    "The heteroskedastic robust std. error is equal to the original std. error which gives rise to the same t-score. \n",
    "The heteroskedastic robust std. error is slightly larger than the homoskedastic std. error."
   ]
  },
  {
   "cell_type": "code",
   "execution_count": null,
   "metadata": {},
   "outputs": [],
   "source": []
  }
 ],
 "metadata": {
  "kernelspec": {
   "display_name": "Python 3",
   "language": "python",
   "name": "python3"
  },
  "language_info": {
   "codemirror_mode": {
    "name": "ipython",
    "version": 3
   },
   "file_extension": ".py",
   "mimetype": "text/x-python",
   "name": "python",
   "nbconvert_exporter": "python",
   "pygments_lexer": "ipython3",
   "version": "3.7.0"
  }
 },
 "nbformat": 4,
 "nbformat_minor": 2
}
